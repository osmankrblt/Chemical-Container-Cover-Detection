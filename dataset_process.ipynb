{
 "cells": [
  {
   "cell_type": "code",
   "execution_count": 4,
   "metadata": {},
   "outputs": [],
   "source": [
    "from utils.video2frames import sepVideo"
   ]
  },
  {
   "cell_type": "code",
   "execution_count": 5,
   "metadata": {},
   "outputs": [],
   "source": [
    "video_file_path1 = \"Raw Dataset/new videos/IP Camera47_URETIM_20221202091000_20221202094742_301086.mp4\"\n",
    "video_file_path2 = \"Raw Dataset/new videos/IP Camera47_URETIM_20221202091000_20221202094742_301086.mp4\""
   ]
  },
  {
   "cell_type": "code",
   "execution_count": 6,
   "metadata": {},
   "outputs": [
    {
     "name": "stdout",
     "output_type": "stream",
     "text": [
      "Process was successfully\n",
      "Process was successfully\n"
     ]
    }
   ],
   "source": [
    "# Generally 1 second video has 30 frames.For example If frameRate value is 30.This mean is you take one frame for every second\n",
    "\n",
    "sepVideo(video_file_path1,\"Raw Dataset/new videos not annonations\",frameRate=30) \n",
    "sepVideo(video_file_path2,\"Raw Dataset/new videos not annonations\",frameRate=30)"
   ]
  }
 ],
 "metadata": {
  "kernelspec": {
   "display_name": "Python 3.10.6 64-bit",
   "language": "python",
   "name": "python3"
  },
  "language_info": {
   "codemirror_mode": {
    "name": "ipython",
    "version": 3
   },
   "file_extension": ".py",
   "mimetype": "text/x-python",
   "name": "python",
   "nbconvert_exporter": "python",
   "pygments_lexer": "ipython3",
   "version": "3.10.6"
  },
  "orig_nbformat": 4,
  "vscode": {
   "interpreter": {
    "hash": "369f2c481f4da34e4445cda3fffd2e751bd1c4d706f27375911949ba6bb62e1c"
   }
  }
 },
 "nbformat": 4,
 "nbformat_minor": 2
}
